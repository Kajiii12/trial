{
 "cells": [
  {
   "cell_type": "code",
   "execution_count": 1,
   "metadata": {},
   "outputs": [],
   "source": [
    "# Import required libraries\n",
    "import cv2\n",
    "import numpy as np\n",
    "import os\n",
    "import matplotlib.pyplot as plt\n",
    "%matplotlib inline"
   ]
  },
  {
   "cell_type": "code",
   "execution_count": 2,
   "metadata": {},
   "outputs": [],
   "source": [
    "# Function to read images and labels from a dataset\n",
    "def read_images(data_path, img_size=(200, 200)):\n",
    "    \"\"\"\n",
    "    Reads images from the dataset folder and returns them along with labels.\n",
    "    Each subfolder in 'data_path' represents a class (e.g., a person's name).\n",
    "    \"\"\"\n",
    "    images = []\n",
    "    labels = []\n",
    "    label_map = {}\n",
    "    current_label = 0\n",
    "\n",
    "    for dir_name in sorted(os.listdir(data_path)):\n",
    "        dir_path = os.path.join(data_path, dir_name)\n",
    "        if not os.path.isdir(dir_path):\n",
    "            continue\n",
    "\n",
    "        label_map[current_label] = dir_name\n",
    "        for file_name in os.listdir(dir_path):\n",
    "            file_path = os.path.join(dir_path, file_name)\n",
    "            img = cv2.imread(file_path, cv2.IMREAD_GRAYSCALE)\n",
    "            if img is not None:\n",
    "                img_resized = cv2.resize(img, img_size)\n",
    "                images.append(img_resized)\n",
    "                labels.append(current_label)\n",
    "        current_label += 1\n",
    "\n",
    "    return np.asarray(images), np.asarray(labels), label_map"
   ]
  },
  {
   "cell_type": "code",
   "execution_count": 3,
   "metadata": {},
   "outputs": [],
   "source": [
    "# Function to compute confidence level\n",
    "def compute_confidence_level(confidence, threshold=5000):\n",
    "    \"\"\"\n",
    "    Computes a normalized confidence level as a percentage.\n",
    "    - Confidence closer to 0 means higher similarity.\n",
    "    - `threshold` determines the maximum distance for 0% confidence.\n",
    "    \"\"\"\n",
    "    normalized_confidence = max(0, min(1, confidence / threshold))\n",
    "    confidence_level = (1 - normalized_confidence) * 100\n",
    "    return confidence_level"
   ]
  },
  {
   "cell_type": "code",
   "execution_count": 4,
   "metadata": {},
   "outputs": [
    {
     "name": "stdout",
     "output_type": "stream",
     "text": [
      "Step 1: Training the Fisherface Model\n"
     ]
    },
    {
     "ename": "NameError",
     "evalue": "name 'confidence_levels' is not defined",
     "output_type": "error",
     "traceback": [
      "\u001b[1;31m---------------------------------------------------------------------------\u001b[0m",
      "\u001b[1;31mNameError\u001b[0m                                 Traceback (most recent call last)",
      "Cell \u001b[1;32mIn[4], line 32\u001b[0m\n\u001b[0;32m     29\u001b[0m     test_model(fisherface, label_map, img_size)\n\u001b[0;32m     31\u001b[0m \u001b[38;5;28;01mif\u001b[39;00m \u001b[38;5;18m__name__\u001b[39m \u001b[38;5;241m==\u001b[39m \u001b[38;5;124m\"\u001b[39m\u001b[38;5;124m__main__\u001b[39m\u001b[38;5;124m\"\u001b[39m:\n\u001b[1;32m---> 32\u001b[0m     \u001b[43mmain\u001b[49m\u001b[43m(\u001b[49m\u001b[43m)\u001b[49m\n",
      "Cell \u001b[1;32mIn[4], line 15\u001b[0m, in \u001b[0;36mmain\u001b[1;34m()\u001b[0m\n\u001b[0;32m     13\u001b[0m \u001b[38;5;66;03m# Plot confidence levels\u001b[39;00m\n\u001b[0;32m     14\u001b[0m plt\u001b[38;5;241m.\u001b[39mfigure(figsize\u001b[38;5;241m=\u001b[39m(\u001b[38;5;241m10\u001b[39m, \u001b[38;5;241m6\u001b[39m))\n\u001b[1;32m---> 15\u001b[0m plt\u001b[38;5;241m.\u001b[39mbar(\u001b[38;5;28mrange\u001b[39m(\u001b[38;5;241m1\u001b[39m, \u001b[38;5;28mlen\u001b[39m(\u001b[43mconfidence_levels\u001b[49m) \u001b[38;5;241m+\u001b[39m \u001b[38;5;241m1\u001b[39m), confidence_levels, color\u001b[38;5;241m=\u001b[39m\u001b[38;5;124m'\u001b[39m\u001b[38;5;124mskyblue\u001b[39m\u001b[38;5;124m'\u001b[39m)\n\u001b[0;32m     16\u001b[0m plt\u001b[38;5;241m.\u001b[39mxticks(\u001b[38;5;28mrange\u001b[39m(\u001b[38;5;241m1\u001b[39m, \u001b[38;5;28mlen\u001b[39m(confidence_levels) \u001b[38;5;241m+\u001b[39m \u001b[38;5;241m1\u001b[39m))\n\u001b[0;32m     17\u001b[0m plt\u001b[38;5;241m.\u001b[39mtitle(\u001b[38;5;124m\"\u001b[39m\u001b[38;5;124mConfidence Levels for Test Images\u001b[39m\u001b[38;5;124m\"\u001b[39m)\n",
      "\u001b[1;31mNameError\u001b[0m: name 'confidence_levels' is not defined"
     ]
    },
    {
     "data": {
      "text/plain": [
       "<Figure size 1000x600 with 0 Axes>"
      ]
     },
     "metadata": {},
     "output_type": "display_data"
    }
   ],
   "source": [
    "# Function to test the model and plot confidence levels\n",
    "def test_model_with_images(fisherface, label_map, test_data_path, img_size=(200, 200), threshold=5000):\n",
    "    \"\"\"\n",
    "    Tests the model with images from a specified folder and plots the confidence levels.\n",
    "    \"\"\"\n",
    "    confidence_levels = []\n",
    "    predictions = []\n",
    "    test_images = []\n",
    "\n",
    "    for file_name in sorted(os.listdir(test_data_path)):\n",
    "        file_path = os.path.join(test_data_path, file_name)\n",
    "        img = cv2.imread(file_path, cv2.IMREAD_GRAYSCALE)\n",
    "        if img is not None:\n",
    "            img_resized = cv2.resize(img, img_size)\n",
    "            label, confidence = fisherface.predict(img_resized)\n",
    "            confidence_level = compute_confidence_level(confidence, threshold)\n",
    "            confidence_levels.append(confidence_level)\n",
    "            predictions.append(label_map[label] if label in label_map else \"Unknown\")\n",
    "            test_images.append(img_resized)\n",
    "\n",
    "    # Print results\n",
    "    for i, confidence in enumerate(confidence_levels):\n",
    "        print(f\"Test Image {i + 1}: Predicted Label = {predictions[i]}, Confidence Level = {confidence:.2f}%\")\n",
    "\n",
    "    # Plot confidence levels\n",
    "    plt.figure(figsize=(10, 6))\n",
    "    plt.bar(range(1, len(confidence_levels) + 1), confidence_levels, color='skyblue')\n",
    "    plt.xticks(range(1, len(confidence_levels) + 1))\n",
    "    plt.title(\"Confidence Levels for Test Images\")\n",
    "    plt.xlabel(\"Test Image #\")\n",
    "    plt.ylabel(\"Confidence Level (%)\")\n",
    "    plt.ylim(0, 100)\n",
    "    plt.show()"
   ]
  },
  {
   "cell_type": "code",
   "execution_count": 20,
   "metadata": {},
   "outputs": [
    {
     "name": "stdout",
     "output_type": "stream",
     "text": [
      "Step 1: Training the Fisherface Model\n",
      "Fisherface model trained successfully.\n",
      "\n",
      "Step 2: Testing the Model and Visualizing Confidence Levels\n",
      "Align your face and press 's' to capture a test image.\n",
      "Capture test image 1/5\n",
      "Test image captured.\n",
      "Predicted Label: ean\n",
      "Confidence: 8239.33 (raw), Confidence Level: 0.00%\n",
      "Get ready for the next capture...\n",
      "Capture test image 2/5\n",
      "Test image captured.\n",
      "Predicted Label: ean\n",
      "Confidence: 6424.37 (raw), Confidence Level: 0.00%\n",
      "Get ready for the next capture...\n",
      "Capture test image 3/5\n",
      "Test image captured.\n",
      "Predicted Label: ean\n",
      "Confidence: 5668.39 (raw), Confidence Level: 0.00%\n",
      "Get ready for the next capture...\n",
      "Capture test image 4/5\n",
      "Test image captured.\n",
      "Predicted Label: ean\n",
      "Confidence: 4941.68 (raw), Confidence Level: 1.17%\n",
      "Get ready for the next capture...\n",
      "Capture test image 5/5\n",
      "Test image captured.\n",
      "Predicted Label: ean\n",
      "Confidence: 504.82 (raw), Confidence Level: 89.90%\n"
     ]
    },
    {
     "data": {
      "image/png": "[encoded data removed]",
      "text/plain": [
       "<Figure size 1000x600 with 1 Axes>"
      ]
     },
     "metadata": {},
     "output_type": "display_data"
    },
    {
     "name": "stdout",
     "output_type": "stream",
     "text": [
      "Fisherface model trained successfully.\n",
      "\n",
      "Step 2: Testing the Model with a Live Capture\n",
      "Align your face and press 's' to capture a test image.\n",
      "Capture test image 1/5\n"
     ]
    },
    {
     "ename": "KeyboardInterrupt",
     "evalue": "",
     "output_type": "error",
     "traceback": [
      "\u001b[1;31m---------------------------------------------------------------------------\u001b[0m",
      "\u001b[1;31mKeyboardInterrupt\u001b[0m                         Traceback (most recent call last)",
      "Cell \u001b[1;32mIn[20], line 18\u001b[0m\n\u001b[0;32m     16\u001b[0m \u001b[38;5;66;03m# Step 2: Test the model and visualize results\u001b[39;00m\n\u001b[0;32m     17\u001b[0m \u001b[38;5;28mprint\u001b[39m(\u001b[38;5;124m\"\u001b[39m\u001b[38;5;130;01m\\n\u001b[39;00m\u001b[38;5;124mStep 2: Testing the Model and Visualizing Confidence Levels\u001b[39m\u001b[38;5;124m\"\u001b[39m)\n\u001b[1;32m---> 18\u001b[0m \u001b[43mtest_model\u001b[49m\u001b[43m(\u001b[49m\u001b[43mfisherface\u001b[49m\u001b[43m,\u001b[49m\u001b[43m \u001b[49m\u001b[43mlabel_map\u001b[49m\u001b[43m,\u001b[49m\u001b[43m \u001b[49m\u001b[43mimg_size\u001b[49m\u001b[43m,\u001b[49m\u001b[43m \u001b[49m\u001b[43mthreshold\u001b[49m\u001b[38;5;241;43m=\u001b[39;49m\u001b[38;5;241;43m5000\u001b[39;49m\u001b[43m,\u001b[49m\u001b[43m \u001b[49m\u001b[43mnum_tests\u001b[49m\u001b[38;5;241;43m=\u001b[39;49m\u001b[38;5;241;43m5\u001b[39;49m\u001b[43m)\u001b[49m\n",
      "Cell \u001b[1;32mIn[19], line 82\u001b[0m, in \u001b[0;36mtest_model\u001b[1;34m(fisherface, label_map, img_size, threshold, num_tests)\u001b[0m\n\u001b[0;32m     80\u001b[0m \u001b[38;5;66;03m# Step 2: Test the model with a live capture\u001b[39;00m\n\u001b[0;32m     81\u001b[0m \u001b[38;5;28mprint\u001b[39m(\u001b[38;5;124m\"\u001b[39m\u001b[38;5;130;01m\\n\u001b[39;00m\u001b[38;5;124mStep 2: Testing the Model with a Live Capture\u001b[39m\u001b[38;5;124m\"\u001b[39m)\n\u001b[1;32m---> 82\u001b[0m \u001b[43mtest_model\u001b[49m\u001b[43m(\u001b[49m\u001b[43mfisherface\u001b[49m\u001b[43m,\u001b[49m\u001b[43m \u001b[49m\u001b[43mlabel_map\u001b[49m\u001b[43m,\u001b[49m\u001b[43m \u001b[49m\u001b[43mimg_size\u001b[49m\u001b[43m)\u001b[49m\n",
      "Cell \u001b[1;32mIn[19], line 28\u001b[0m, in \u001b[0;36mtest_model\u001b[1;34m(fisherface, label_map, img_size, threshold, num_tests)\u001b[0m\n\u001b[0;32m     26\u001b[0m test_img \u001b[38;5;241m=\u001b[39m \u001b[38;5;28;01mNone\u001b[39;00m\n\u001b[0;32m     27\u001b[0m \u001b[38;5;28;01mwhile\u001b[39;00m \u001b[38;5;28;01mTrue\u001b[39;00m:\n\u001b[1;32m---> 28\u001b[0m     ret, frame \u001b[38;5;241m=\u001b[39m \u001b[43mcap\u001b[49m\u001b[38;5;241;43m.\u001b[39;49m\u001b[43mread\u001b[49m\u001b[43m(\u001b[49m\u001b[43m)\u001b[49m\n\u001b[0;32m     29\u001b[0m     \u001b[38;5;28;01mif\u001b[39;00m \u001b[38;5;129;01mnot\u001b[39;00m ret:\n\u001b[0;32m     30\u001b[0m         \u001b[38;5;28mprint\u001b[39m(\u001b[38;5;124m\"\u001b[39m\u001b[38;5;124mFailed to capture image.\u001b[39m\u001b[38;5;124m\"\u001b[39m)\n",
      "\u001b[1;31mKeyboardInterrupt\u001b[0m: "
     ]
    },
    {
     "ename": "",
     "evalue": "",
     "output_type": "error",
     "traceback": [
      "\u001b[1;31mThe Kernel crashed while executing code in the current cell or a previous cell. \n",
      "\u001b[1;31mPlease review the code in the cell(s) to identify a possible cause of the failure. \n",
      "\u001b[1;31mClick <a href='https://aka.ms/vscodeJupyterKernelCrash'>here</a> for more info. \n",
      "\u001b[1;31mView Jupyter <a href='command:jupyter.viewOutput'>log</a> for further details."
     ]
    }
   ],
   "source": [
    "# Main execution\n",
    "data_path = \"dataset\"  # Path to the training dataset\n",
    "test_data_path = \"test_images\"  # Path to the test dataset\n",
    "img_size = (200, 200)\n",
    "\n",
    "# Step 1: Read saved images and train the Fisherface model\n",
    "print(\"Step 1: Training the Fisherface Model\")\n",
    "images, labels, label_map = read_images(data_path, img_size)\n",
    "\n",
    "if len(np.unique(labels)) < 2:\n",
    "    print(\"Error: At least two classes are needed to train the model. Add more images to the dataset.\")\n",
    "else:\n",
    "    fisherface = cv2.face.FisherFaceRecognizer_create()\n",
    "    fisherface.train(images, labels)\n",
    "    print(\"Fisherface model trained successfully.\")\n",
    "\n",
    "    # Step 2: Test the model with saved test images and visualize results\n",
    "    print(\"\\nStep 2: Testing the Model with Saved Test Images\")\n",
    "    test_model_with_images(fisherface, label_map, test_data_path, img_size, threshold=5000)"
   ]
  }
 ],
 "metadata": {
  "kernelspec": {
   "display_name": "Python 3",
   "language": "python",
   "name": "python3"
  },
  "language_info": {
   "codemirror_mode": {
    "name": "ipython",
    "version": 3
   },
   "file_extension": ".py",
   "mimetype": "text/x-python",
   "name": "python",
   "nbconvert_exporter": "python",
   "pygments_lexer": "ipython3",
   "version": "3.11.9"
  }
 },
 "nbformat": 4,
 "nbformat_minor": 2
}
